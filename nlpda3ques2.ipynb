{
  "nbformat": 4,
  "nbformat_minor": 0,
  "metadata": {
    "colab": {
      "name": "nlpda2ques2.ipynb",
      "provenance": []
    },
    "kernelspec": {
      "name": "python3",
      "display_name": "Python 3"
    }
  },
  "cells": [
    {
      "cell_type": "code",
      "metadata": {
        "id": "tocF9cbYRoON",
        "colab_type": "code",
        "outputId": "695445fb-e996-4c60-d344-1087c0cab334",
        "colab": {
          "base_uri": "https://localhost:8080/",
          "height": 136
        }
      },
      "source": [
        "import nltk\n",
        "from nltk.tokenize import word_tokenize\n",
        "from nltk.tag import pos_tag\n",
        "nltk.download('punkt')\n",
        "nltk.download('averaged_perceptron_tagger')"
      ],
      "execution_count": 0,
      "outputs": [
        {
          "output_type": "stream",
          "text": [
            "[nltk_data] Downloading package punkt to /root/nltk_data...\n",
            "[nltk_data]   Package punkt is already up-to-date!\n",
            "[nltk_data] Downloading package averaged_perceptron_tagger to\n",
            "[nltk_data]     /root/nltk_data...\n",
            "[nltk_data]   Package averaged_perceptron_tagger is already up-to-\n",
            "[nltk_data]       date!\n"
          ],
          "name": "stdout"
        },
        {
          "output_type": "execute_result",
          "data": {
            "text/plain": [
              "True"
            ]
          },
          "metadata": {
            "tags": []
          },
          "execution_count": 19
        }
      ]
    },
    {
      "cell_type": "code",
      "metadata": {
        "id": "mKruOepnRv_a",
        "colab_type": "code",
        "colab": {}
      },
      "source": [
        "ex = \"With Friday’s repo rate cut of 40 basis points, the RBI has shaved off 1.15 percentage points from the rate chart in the 58 days since the lockdown began, bringing the repo rate down to 4% and the reverse repo rate to 3.35%. With this, it does appear that the central bank may have played out its rate cut card for now as prudence would dictate that it reserves some leverage for the future if economic conditions deteriorate even further. In fact, there are those who believe that the latest cut may be no more than a sentiment booster as economic activity is at its nadir and there are not many investment proposals on the anvil that may benefit from the lower interest rate. Existing borrowers may be the only beneficiaries of the rate cut at this point in time. That said, the RBI deserves a pat on the back for listening to feedback over some of its moves initiated earlier during the lockdown. Thus, the extension of the repayment moratorium on loans is a welcome measure.\""
      ],
      "execution_count": 0,
      "outputs": []
    },
    {
      "cell_type": "code",
      "metadata": {
        "id": "UTosW2SaSFTZ",
        "colab_type": "code",
        "colab": {}
      },
      "source": [
        "def preprocess(sent):\n",
        "    sent = nltk.word_tokenize(sent)\n",
        "    sent = nltk.pos_tag(sent)\n",
        "    return sent"
      ],
      "execution_count": 0,
      "outputs": []
    },
    {
      "cell_type": "code",
      "metadata": {
        "id": "T9qbsxepSIrj",
        "colab_type": "code",
        "outputId": "e98fa34e-cf75-4229-9313-80b0711ce037",
        "colab": {
          "base_uri": "https://localhost:8080/",
          "height": 1000
        }
      },
      "source": [
        "sent = preprocess(ex)\n",
        "sent"
      ],
      "execution_count": 0,
      "outputs": [
        {
          "output_type": "execute_result",
          "data": {
            "text/plain": [
              "[('With', 'IN'),\n",
              " ('Friday', 'NNP'),\n",
              " ('’', 'NNP'),\n",
              " ('s', 'JJ'),\n",
              " ('repo', 'NN'),\n",
              " ('rate', 'NN'),\n",
              " ('cut', 'NN'),\n",
              " ('of', 'IN'),\n",
              " ('40', 'CD'),\n",
              " ('basis', 'NN'),\n",
              " ('points', 'NNS'),\n",
              " (',', ','),\n",
              " ('the', 'DT'),\n",
              " ('RBI', 'NNP'),\n",
              " ('has', 'VBZ'),\n",
              " ('shaved', 'VBN'),\n",
              " ('off', 'RP'),\n",
              " ('1.15', 'CD'),\n",
              " ('percentage', 'NN'),\n",
              " ('points', 'NNS'),\n",
              " ('from', 'IN'),\n",
              " ('the', 'DT'),\n",
              " ('rate', 'NN'),\n",
              " ('chart', 'NN'),\n",
              " ('in', 'IN'),\n",
              " ('the', 'DT'),\n",
              " ('58', 'CD'),\n",
              " ('days', 'NNS'),\n",
              " ('since', 'IN'),\n",
              " ('the', 'DT'),\n",
              " ('lockdown', 'NN'),\n",
              " ('began', 'VBD'),\n",
              " (',', ','),\n",
              " ('bringing', 'VBG'),\n",
              " ('the', 'DT'),\n",
              " ('repo', 'NN'),\n",
              " ('rate', 'NN'),\n",
              " ('down', 'IN'),\n",
              " ('to', 'TO'),\n",
              " ('4', 'CD'),\n",
              " ('%', 'NN'),\n",
              " ('and', 'CC'),\n",
              " ('the', 'DT'),\n",
              " ('reverse', 'JJ'),\n",
              " ('repo', 'NN'),\n",
              " ('rate', 'NN'),\n",
              " ('to', 'TO'),\n",
              " ('3.35', 'CD'),\n",
              " ('%', 'NN'),\n",
              " ('.', '.'),\n",
              " ('With', 'IN'),\n",
              " ('this', 'DT'),\n",
              " (',', ','),\n",
              " ('it', 'PRP'),\n",
              " ('does', 'VBZ'),\n",
              " ('appear', 'VB'),\n",
              " ('that', 'IN'),\n",
              " ('the', 'DT'),\n",
              " ('central', 'JJ'),\n",
              " ('bank', 'NN'),\n",
              " ('may', 'MD'),\n",
              " ('have', 'VB'),\n",
              " ('played', 'VBN'),\n",
              " ('out', 'RP'),\n",
              " ('its', 'PRP$'),\n",
              " ('rate', 'NN'),\n",
              " ('cut', 'NN'),\n",
              " ('card', 'NN'),\n",
              " ('for', 'IN'),\n",
              " ('now', 'RB'),\n",
              " ('as', 'IN'),\n",
              " ('prudence', 'NN'),\n",
              " ('would', 'MD'),\n",
              " ('dictate', 'VB'),\n",
              " ('that', 'IN'),\n",
              " ('it', 'PRP'),\n",
              " ('reserves', 'NNS'),\n",
              " ('some', 'DT'),\n",
              " ('leverage', 'NN'),\n",
              " ('for', 'IN'),\n",
              " ('the', 'DT'),\n",
              " ('future', 'NN'),\n",
              " ('if', 'IN'),\n",
              " ('economic', 'JJ'),\n",
              " ('conditions', 'NNS'),\n",
              " ('deteriorate', 'VB'),\n",
              " ('even', 'RB'),\n",
              " ('further', 'RBR'),\n",
              " ('.', '.'),\n",
              " ('In', 'IN'),\n",
              " ('fact', 'NN'),\n",
              " (',', ','),\n",
              " ('there', 'EX'),\n",
              " ('are', 'VBP'),\n",
              " ('those', 'DT'),\n",
              " ('who', 'WP'),\n",
              " ('believe', 'VBP'),\n",
              " ('that', 'IN'),\n",
              " ('the', 'DT'),\n",
              " ('latest', 'JJS'),\n",
              " ('cut', 'NN'),\n",
              " ('may', 'MD'),\n",
              " ('be', 'VB'),\n",
              " ('no', 'RB'),\n",
              " ('more', 'JJR'),\n",
              " ('than', 'IN'),\n",
              " ('a', 'DT'),\n",
              " ('sentiment', 'JJ'),\n",
              " ('booster', 'NN'),\n",
              " ('as', 'IN'),\n",
              " ('economic', 'JJ'),\n",
              " ('activity', 'NN'),\n",
              " ('is', 'VBZ'),\n",
              " ('at', 'IN'),\n",
              " ('its', 'PRP$'),\n",
              " ('nadir', 'NN'),\n",
              " ('and', 'CC'),\n",
              " ('there', 'EX'),\n",
              " ('are', 'VBP'),\n",
              " ('not', 'RB'),\n",
              " ('many', 'JJ'),\n",
              " ('investment', 'NN'),\n",
              " ('proposals', 'NNS'),\n",
              " ('on', 'IN'),\n",
              " ('the', 'DT'),\n",
              " ('anvil', 'NN'),\n",
              " ('that', 'WDT'),\n",
              " ('may', 'MD'),\n",
              " ('benefit', 'VB'),\n",
              " ('from', 'IN'),\n",
              " ('the', 'DT'),\n",
              " ('lower', 'JJR'),\n",
              " ('interest', 'NN'),\n",
              " ('rate', 'NN'),\n",
              " ('.', '.'),\n",
              " ('Existing', 'VBG'),\n",
              " ('borrowers', 'NNS'),\n",
              " ('may', 'MD'),\n",
              " ('be', 'VB'),\n",
              " ('the', 'DT'),\n",
              " ('only', 'JJ'),\n",
              " ('beneficiaries', 'NNS'),\n",
              " ('of', 'IN'),\n",
              " ('the', 'DT'),\n",
              " ('rate', 'NN'),\n",
              " ('cut', 'NN'),\n",
              " ('at', 'IN'),\n",
              " ('this', 'DT'),\n",
              " ('point', 'NN'),\n",
              " ('in', 'IN'),\n",
              " ('time', 'NN'),\n",
              " ('.', '.'),\n",
              " ('That', 'DT'),\n",
              " ('said', 'VBD'),\n",
              " (',', ','),\n",
              " ('the', 'DT'),\n",
              " ('RBI', 'NNP'),\n",
              " ('deserves', 'VBZ'),\n",
              " ('a', 'DT'),\n",
              " ('pat', 'NN'),\n",
              " ('on', 'IN'),\n",
              " ('the', 'DT'),\n",
              " ('back', 'NN'),\n",
              " ('for', 'IN'),\n",
              " ('listening', 'VBG'),\n",
              " ('to', 'TO'),\n",
              " ('feedback', 'VB'),\n",
              " ('over', 'IN'),\n",
              " ('some', 'DT'),\n",
              " ('of', 'IN'),\n",
              " ('its', 'PRP$'),\n",
              " ('moves', 'NNS'),\n",
              " ('initiated', 'VBN'),\n",
              " ('earlier', 'RBR'),\n",
              " ('during', 'IN'),\n",
              " ('the', 'DT'),\n",
              " ('lockdown', 'JJ'),\n",
              " ('.', '.'),\n",
              " ('Thus', 'RB'),\n",
              " (',', ','),\n",
              " ('the', 'DT'),\n",
              " ('extension', 'NN'),\n",
              " ('of', 'IN'),\n",
              " ('the', 'DT'),\n",
              " ('repayment', 'NN'),\n",
              " ('moratorium', 'NN'),\n",
              " ('on', 'IN'),\n",
              " ('loans', 'NNS'),\n",
              " ('is', 'VBZ'),\n",
              " ('a', 'DT'),\n",
              " ('welcome', 'JJ'),\n",
              " ('measure', 'NN'),\n",
              " ('.', '.')]"
            ]
          },
          "metadata": {
            "tags": []
          },
          "execution_count": 22
        }
      ]
    },
    {
      "cell_type": "code",
      "metadata": {
        "id": "S45RyRW6SL3E",
        "colab_type": "code",
        "colab": {}
      },
      "source": [
        "text_file = open(\"/content/sample_data/Entity2.txt\", \"w\")\n",
        "text_file.write('\\n'.join('{} {}'.format(x[0],x[1]) for x in sent))\n",
        "text_file.close()"
      ],
      "execution_count": 0,
      "outputs": []
    },
    {
      "cell_type": "code",
      "metadata": {
        "id": "RqjpNO2hS-_7",
        "colab_type": "code",
        "colab": {}
      },
      "source": [
        ""
      ],
      "execution_count": 0,
      "outputs": []
    }
  ]
}